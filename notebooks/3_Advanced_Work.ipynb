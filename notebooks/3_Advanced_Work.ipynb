{
 "cells": [
  {
   "cell_type": "markdown",
   "metadata": {},
   "source": [
    "# UBS Challenge Advanced Work\n",
    "\n",
    "------"
   ]
  },
  {
   "cell_type": "markdown",
   "metadata": {},
   "source": [
    "#### Download the files"
   ]
  },
  {
   "cell_type": "code",
   "execution_count": 8,
   "metadata": {},
   "outputs": [
    {
     "name": "stdout",
     "output_type": "stream",
     "text": [
      "['/Applications/GitHub Projects/UBS_Challenge/notebooks/..', '/Applications/GitHub Projects/UBS_Challenge/notebooks', '/Users/abc/anaconda3/envs/UBS/lib/python312.zip', '/Users/abc/anaconda3/envs/UBS/lib/python3.12', '/Users/abc/anaconda3/envs/UBS/lib/python3.12/lib-dynload', '', '/Users/abc/.local/lib/python3.12/site-packages', '/Users/abc/anaconda3/envs/UBS/lib/python3.12/site-packages', '/Applications/GitHub Projects/UBS_Challenge', '/Applications/GitHub Projects/UBS_Challenge', '/Applications/GitHub Projects/UBS_Challenge/notebooks/..', '/Applications/GitHub Projects/UBS_Challenge/notebooks/..', '/Applications/GitHub Projects/UBS_Challenge/notebooks/..', '/Applications/GitHub Projects/UBS_Challenge/notebooks/..']\n",
      "The file market-data-swap-rates.csv has already been downloaded. \n",
      "The file market-data-swaption-vols.csv has already been downloaded. \n",
      "The file trade-information.csv has already been downloaded. \n",
      "The file trade-price-ir-vegas.csv has already been downloaded. \n"
     ]
    }
   ],
   "source": [
    "!pip install requests --quiet\n",
    "import os, sys; sys.path.insert(0, os.path.join(sys.path[0], '..'))\n",
    "from scripts.functions import download_files\n",
    "download_files()"
   ]
  }
 ],
 "metadata": {
  "kernelspec": {
   "display_name": "UBS",
   "language": "python",
   "name": "python3"
  },
  "language_info": {
   "codemirror_mode": {
    "name": "ipython",
    "version": 3
   },
   "file_extension": ".py",
   "mimetype": "text/x-python",
   "name": "python",
   "nbconvert_exporter": "python",
   "pygments_lexer": "ipython3",
   "version": "3.12.3"
  }
 },
 "nbformat": 4,
 "nbformat_minor": 2
}
