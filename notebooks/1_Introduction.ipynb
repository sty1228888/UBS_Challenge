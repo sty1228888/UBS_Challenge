{
 "cells": [
  {
   "cell_type": "markdown",
   "metadata": {},
   "source": [
    "# UBS Challenge Introduction\n",
    "\n",
    "------"
   ]
  },
  {
   "cell_type": "markdown",
   "metadata": {},
   "source": [
    "### 题目2 (Question 2)：风险预警师 (Risk Alert Specialist)"
   ]
  },
  {
   "cell_type": "markdown",
   "metadata": {},
   "source": [
    "区间累计计息的结构化票据 (Range Accrual Note) 是一种挂钩利率的衍生金融产品，兼具传统的固定收益产品和金融衍生工具的特点。投资者在投资此类产品时，往往对互换利率 (例如5年期互换利率) 的走势有所预期，并将票息收益与此挂钩。而此类产品的结构往往被设计成具有上、下限的特征，从而为投资者的收益提供一定程度上的保护。"
   ]
  },
  {
   "cell_type": "markdown",
   "metadata": {},
   "source": [
    "Range Accrual Note is an interest rate-linked derivative financial product that combines the characteristics of traditional fixed income products and financial derivatives. When investors invest in such products, they often have expectations for the trend of the swap rate (such as the 5-year swap rate) and link the coupon income to this. The structure of such products is often designed to have upper and lower limits, thereby providing a certain degree of protection for investors' returns."
   ]
  },
  {
   "cell_type": "markdown",
   "metadata": {},
   "source": [
    "## Fundamental Knowledge"
   ]
  },
  {
   "cell_type": "markdown",
   "metadata": {},
   "source": [
    "### Range Accrual"
   ]
  },
  {
   "cell_type": "markdown",
   "metadata": {},
   "source": [
    "Source: https://www.investopedia.com/terms/r/rangeaccrual.asp\n",
    "\n",
    "- A ```Range Accrual``` is a structured product based on an underlying index whose ```returns are maximized if the reference index stays within the investor's defined range```. Variations on range accrual notes include accretion bonds, index range notes, corridor bonds, corridor notes, range floaters, and fairway bonds. \n",
    "\n",
    "- The investor holding the range accrual security desires the reference index to stay within a specified range from the range accrual's issuance to its maturity. ```The reference index could be an interest rate```, such as LIBOR. It might also be a ```currency exchange rate, commodity, or stock index```. "
   ]
  },
  {
   "cell_type": "markdown",
   "metadata": {},
   "source": [
    "### Implied Volatility (IV) and IV Percentile"
   ]
  },
  {
   "cell_type": "code",
   "execution_count": null,
   "metadata": {},
   "outputs": [],
   "source": [
    "from IPython.display import YouTubeVideo\n",
    "YouTubeVideo('reU9vOeDIl8')"
   ]
  },
  {
   "cell_type": "markdown",
   "metadata": {},
   "source": [
    "- If there are more short sellers, then the ```supply increases, and the option price will drop```. \n",
    "\n",
    "- If there are ```more buyers, the option prices will increase```, and the ```Implied Volatility (IV) will increase```. \n",
    "\n",
    "- As the ```IV increases, you may make more money from the option``` as people are more willing to buy it with a higher price. When everybody is buying, you should sell. The ```IV Crush``` is the action of selling options once the holder perceived an enough gain. "
   ]
  },
  {
   "cell_type": "markdown",
   "metadata": {},
   "source": [
    "- If the option is ```deep in money```, or ```far out of money``` (close to 0), then the ```IV may be very high```. \n",
    "\n",
    "- Therefore, when ```IV is low```, people are tend to ```buy options```. When ```IV is high```, people are tend to ```sell options```. "
   ]
  },
  {
   "cell_type": "markdown",
   "metadata": {},
   "source": [
    "- The ```Inplied Volatility Percentile``` can tell us what the current IV is, compared the past IV within a certain range. \n",
    "\n",
    "- When ```IVP is too high```, we should sell options. When ```IVP is not too high```, consider how the option is going to move, versus what the markets are expecting that option to move. \n",
    "\n",
    "- If the ```expected move is higher``` than your prediction, ```sell the option```. Otherwise, buy the option. "
   ]
  },
  {
   "cell_type": "markdown",
   "metadata": {},
   "source": [
    "#### What is the difference between ```Vols``` and ```Vega``` in the dataset? "
   ]
  },
  {
   "cell_type": "markdown",
   "metadata": {},
   "source": [
    "According to ChatGPT, both ```Vols``` in ```trade-information.csv``` and ```Vega``` in ```trade-price-ir-vegas.csv``` can be processed to obtain time-series dataset to train and test our model: \n",
    "\n",
    "|   |```Vols```|```Vega```|\n",
    "|---|---|---|\n",
    "|Scope|```Vols``` represent the market-observed implied normal volatilities for different expiries and tenors. |```Vega``` represents the trade-specific sensitivity to market volatility, i.e., the change in the trade's value due to a change in the market implied volatility.|\n",
    "|Granularity|```Vols``` are reported at a more aggregated level, representing the market-wide implied volatilities for different expiries and tenors. |```Vega``` is reported at the individual trade level, providing the volatility sensitivity for each trade.|\n",
    "|Relationship||```Vega``` of a trade is influenced by the market ```Vols```|"
   ]
  },
  {
   "cell_type": "markdown",
   "metadata": {},
   "source": [
    "Source: https://www.investopedia.com/terms/v/vega.asp\n",
    "\n",
    "Vega is the measurement of ```an option's price sensitivity to changes in the volatility``` of the underlying asset. \n",
    "\n",
    "It  represents ```the amount that an option contract's price changes in reaction``` to a ```1% change in the Implied Volatility (IV)``` of the underlying asset. "
   ]
  },
  {
   "cell_type": "markdown",
   "metadata": {},
   "source": [
    "### Regression"
   ]
  },
  {
   "cell_type": "markdown",
   "metadata": {},
   "source": [
    "### Monte Carlo Model"
   ]
  },
  {
   "cell_type": "markdown",
   "metadata": {},
   "source": [
    "## Challenge Overview"
   ]
  },
  {
   "cell_type": "markdown",
   "metadata": {},
   "source": [
    "### Setup Python"
   ]
  },
  {
   "cell_type": "markdown",
   "metadata": {},
   "source": [
    "According to the challenge, Python 3.8 should be used. \n",
    "\n",
    "- On Mac: ```pyenv install 3.8.10```. Upon installation, enter ```pyenv global 3.8.10``` in vscode cell. Select the installed Python Kernel starting with ```/usr/local/bin``` or ```/.pyenv/versions/3.8``` in VSCode. Note that earlier versions are not supported by M1/M2 chips. \n",
    "\n",
    "- On Windows: Install from <a href=\"https://www.python.org/downloads/windows/\">Python Releases for Windows</a>\n",
    "\n",
    "Check the Python version, should return 3.8.x: "
   ]
  },
  {
   "cell_type": "code",
   "execution_count": null,
   "metadata": {},
   "outputs": [],
   "source": [
    "import os, sys, subprocess\n",
    "if (sys.platform.startswith(\"darwin\")): \n",
    "    try:\n",
    "        output = subprocess.check_output(['pyenv', 'versions'], universal_newlines=True)\n",
    "        versions = ''.join((output.strip().split('\\n')))\n",
    "        if '3.8.10' not in versions: \n",
    "            os.system(\"pyenv install 3s.8.10\")\n",
    "        print (\"Python 3.8.10 is available. \")\n",
    "    except Exception as e: \n",
    "        print(\"Error: pyenv is not installed or not available in the system PATH.\")\n",
    "        print (e)\n",
    "    os.system(\"pyenv global 3.8.10\")\n",
    "else: print (\"visit {https://www.python.org/downloads/windows/} and change python kernel\")\n",
    "!python --version"
   ]
  },
  {
   "cell_type": "markdown",
   "metadata": {},
   "source": [
    "### Create virtual environment\n",
    "\n",
    "When changing the kernel in VSCode, click ```Select Another Kernel```, followed by ```Python Environments```, and ```Create Python Environment```. You may select ```Conda``` as environment type and Python 3.8 as the interpreter in as the virtual environment. Name the virtual environment, e.g., ```UBS```\n",
    "\n",
    "You may also execute ```conda create --name UBS``` prior to selecting the virtual environment. "
   ]
  },
  {
   "cell_type": "markdown",
   "metadata": {},
   "source": [
    "### Download necessary packages"
   ]
  },
  {
   "cell_type": "code",
   "execution_count": null,
   "metadata": {},
   "outputs": [],
   "source": [
    "!pip install numpy --quiet\n",
    "import numpy as np"
   ]
  },
  {
   "cell_type": "code",
   "execution_count": null,
   "metadata": {},
   "outputs": [],
   "source": [
    "!pip install pandas --quiet\n",
    "import pandas as pd"
   ]
  },
  {
   "cell_type": "markdown",
   "metadata": {},
   "source": [
    "### Given .csv files"
   ]
  },
  {
   "cell_type": "markdown",
   "metadata": {},
   "source": [
    "#### Download the files"
   ]
  },
  {
   "cell_type": "code",
   "execution_count": 1,
   "metadata": {},
   "outputs": [
    {
     "name": "stdout",
     "output_type": "stream",
     "text": [
      "The file market-data-swap-rates.csv has already been downloaded. \n",
      "The file market-data-swaption-vols.csv has already been downloaded. \n",
      "The file trade-information.csv has already been downloaded. \n",
      "The file trade-price-ir-vegas.csv has already been downloaded. \n"
     ]
    }
   ],
   "source": [
    "!pip install requests --quiet\n",
    "import os, sys; sys.path.insert(0, os.path.join(sys.path[0], '..'))\n",
    "from scripts.functions import download_files\n",
    "download_files()"
   ]
  },
  {
   "cell_type": "markdown",
   "metadata": {},
   "source": [
    "#### trade-price-ir-vegas.csv\n",
    "\n",
    "This file contains timeseries of TV (Total Value) and IR Vega of each trade. \n",
    "\n",
    "- ```Value Date```: The date on which we compute the TV and Vega risks\n",
    "\n",
    "- ```Trade Name```: Trade identity\n",
    "\n",
    "- ```Trade Currency```: Currency of the trade\n",
    "\n",
    "- ```Zero Rate Shock```: Shock value in bps (basis points) of the parallel yield curve zero rate shock\n",
    "\n",
    "- ```TV (Total Value)```: Total value of the trade in its trade currency\n",
    "\n",
    "- ```Expiry Bucket```: Expiry of the swaption\n",
    "\n",
    "- ```Expiry Date```: Expiry date of the swaption\n",
    "\n",
    "- ```Tenor Bucket```: Tenor of the swap to be entered by the swaption\n",
    "\n",
    "- ```Vega```: Trade's sensitivity in cash towards market swaption implied Normal volatility"
   ]
  },
  {
   "cell_type": "code",
   "execution_count": 13,
   "metadata": {},
   "outputs": [
    {
     "name": "stdout",
     "output_type": "stream",
     "text": [
      "Total: 3919104 rows. Sampled rows: \n",
      "[0.  0.1 0.2 0.3 0.4 0.5 0.6 0.7 0.8 0.9 1. ]\n"
     ]
    },
    {
     "data": {
      "text/html": [
       "<div>\n",
       "<style scoped>\n",
       "    .dataframe tbody tr th:only-of-type {\n",
       "        vertical-align: middle;\n",
       "    }\n",
       "\n",
       "    .dataframe tbody tr th {\n",
       "        vertical-align: top;\n",
       "    }\n",
       "\n",
       "    .dataframe thead th {\n",
       "        text-align: right;\n",
       "    }\n",
       "</style>\n",
       "<table border=\"1\" class=\"dataframe\">\n",
       "  <thead>\n",
       "    <tr style=\"text-align: right;\">\n",
       "      <th></th>\n",
       "      <th>Value Date</th>\n",
       "      <th>Trade Name</th>\n",
       "      <th>Trade Currency</th>\n",
       "      <th>Zero Rate Shock</th>\n",
       "      <th>TV</th>\n",
       "      <th>Expiry Bucket</th>\n",
       "      <th>Expiry Date</th>\n",
       "      <th>Tenor Bucket</th>\n",
       "      <th>Vega</th>\n",
       "    </tr>\n",
       "  </thead>\n",
       "  <tbody>\n",
       "    <tr>\n",
       "      <th>0</th>\n",
       "      <td>2022-09-02</td>\n",
       "      <td>dummyTrade1</td>\n",
       "      <td>USD</td>\n",
       "      <td>-100</td>\n",
       "      <td>-227907.098775</td>\n",
       "      <td>1y</td>\n",
       "      <td>2023-09-04</td>\n",
       "      <td>10y</td>\n",
       "      <td>1.962246</td>\n",
       "    </tr>\n",
       "    <tr>\n",
       "      <th>391910</th>\n",
       "      <td>2022-10-25</td>\n",
       "      <td>dummyTrade5</td>\n",
       "      <td>USD</td>\n",
       "      <td>-25</td>\n",
       "      <td>-205659.046350</td>\n",
       "      <td>5y</td>\n",
       "      <td>2027-10-25</td>\n",
       "      <td>1y</td>\n",
       "      <td>3.337668</td>\n",
       "    </tr>\n",
       "    <tr>\n",
       "      <th>783820</th>\n",
       "      <td>2022-12-14</td>\n",
       "      <td>dummyTrade11</td>\n",
       "      <td>USD</td>\n",
       "      <td>-5</td>\n",
       "      <td>-615690.682885</td>\n",
       "      <td>18M</td>\n",
       "      <td>2024-06-14</td>\n",
       "      <td>5y</td>\n",
       "      <td>-4.165384</td>\n",
       "    </tr>\n",
       "    <tr>\n",
       "      <th>1175731</th>\n",
       "      <td>2023-02-17</td>\n",
       "      <td>dummyTrade7</td>\n",
       "      <td>USD</td>\n",
       "      <td>10</td>\n",
       "      <td>-590694.072735</td>\n",
       "      <td>10y</td>\n",
       "      <td>2033-02-17</td>\n",
       "      <td>15y</td>\n",
       "      <td>-0.633265</td>\n",
       "    </tr>\n",
       "    <tr>\n",
       "      <th>1567641</th>\n",
       "      <td>2023-04-06</td>\n",
       "      <td>dummyTrade2</td>\n",
       "      <td>USD</td>\n",
       "      <td>50</td>\n",
       "      <td>-215976.848584</td>\n",
       "      <td>3y</td>\n",
       "      <td>2026-04-07</td>\n",
       "      <td>3y</td>\n",
       "      <td>0.777678</td>\n",
       "    </tr>\n",
       "    <tr>\n",
       "      <th>1959552</th>\n",
       "      <td>2023-05-24</td>\n",
       "      <td>dummyTrade1</td>\n",
       "      <td>USD</td>\n",
       "      <td>-100</td>\n",
       "      <td>-187668.534269</td>\n",
       "      <td>1y</td>\n",
       "      <td>2024-05-24</td>\n",
       "      <td>10y</td>\n",
       "      <td>12.969633</td>\n",
       "    </tr>\n",
       "    <tr>\n",
       "      <th>2351462</th>\n",
       "      <td>2023-07-10</td>\n",
       "      <td>dummyTrade5</td>\n",
       "      <td>USD</td>\n",
       "      <td>-25</td>\n",
       "      <td>-182956.623465</td>\n",
       "      <td>5y</td>\n",
       "      <td>2028-07-10</td>\n",
       "      <td>1y</td>\n",
       "      <td>-0.648126</td>\n",
       "    </tr>\n",
       "    <tr>\n",
       "      <th>2743372</th>\n",
       "      <td>2023-08-25</td>\n",
       "      <td>dummyTrade11</td>\n",
       "      <td>USD</td>\n",
       "      <td>-5</td>\n",
       "      <td>-429947.951269</td>\n",
       "      <td>18M</td>\n",
       "      <td>2025-02-25</td>\n",
       "      <td>5y</td>\n",
       "      <td>-10.242808</td>\n",
       "    </tr>\n",
       "    <tr>\n",
       "      <th>3135283</th>\n",
       "      <td>2023-10-11</td>\n",
       "      <td>dummyTrade7</td>\n",
       "      <td>USD</td>\n",
       "      <td>10</td>\n",
       "      <td>-374690.122687</td>\n",
       "      <td>10y</td>\n",
       "      <td>2033-10-11</td>\n",
       "      <td>15y</td>\n",
       "      <td>0.546255</td>\n",
       "    </tr>\n",
       "    <tr>\n",
       "      <th>3527193</th>\n",
       "      <td>2023-11-28</td>\n",
       "      <td>dummyTrade2</td>\n",
       "      <td>USD</td>\n",
       "      <td>50</td>\n",
       "      <td>-118538.966892</td>\n",
       "      <td>3y</td>\n",
       "      <td>2026-11-30</td>\n",
       "      <td>3y</td>\n",
       "      <td>-7.720153</td>\n",
       "    </tr>\n",
       "    <tr>\n",
       "      <th>3919103</th>\n",
       "      <td>2024-01-12</td>\n",
       "      <td>dummyTrade9</td>\n",
       "      <td>USD</td>\n",
       "      <td>100</td>\n",
       "      <td>-308259.900297</td>\n",
       "      <td>15y</td>\n",
       "      <td>2039-01-12</td>\n",
       "      <td>8y</td>\n",
       "      <td>-5.715808</td>\n",
       "    </tr>\n",
       "  </tbody>\n",
       "</table>\n",
       "</div>"
      ],
      "text/plain": [
       "         Value Date    Trade Name Trade Currency  Zero Rate Shock  \\\n",
       "0        2022-09-02   dummyTrade1            USD             -100   \n",
       "391910   2022-10-25   dummyTrade5            USD              -25   \n",
       "783820   2022-12-14  dummyTrade11            USD               -5   \n",
       "1175731  2023-02-17   dummyTrade7            USD               10   \n",
       "1567641  2023-04-06   dummyTrade2            USD               50   \n",
       "1959552  2023-05-24   dummyTrade1            USD             -100   \n",
       "2351462  2023-07-10   dummyTrade5            USD              -25   \n",
       "2743372  2023-08-25  dummyTrade11            USD               -5   \n",
       "3135283  2023-10-11   dummyTrade7            USD               10   \n",
       "3527193  2023-11-28   dummyTrade2            USD               50   \n",
       "3919103  2024-01-12   dummyTrade9            USD              100   \n",
       "\n",
       "                    TV Expiry Bucket Expiry Date Tenor Bucket       Vega  \n",
       "0       -227907.098775            1y  2023-09-04          10y   1.962246  \n",
       "391910  -205659.046350            5y  2027-10-25           1y   3.337668  \n",
       "783820  -615690.682885           18M  2024-06-14           5y  -4.165384  \n",
       "1175731 -590694.072735           10y  2033-02-17          15y  -0.633265  \n",
       "1567641 -215976.848584            3y  2026-04-07           3y   0.777678  \n",
       "1959552 -187668.534269            1y  2024-05-24          10y  12.969633  \n",
       "2351462 -182956.623465            5y  2028-07-10           1y  -0.648126  \n",
       "2743372 -429947.951269           18M  2025-02-25           5y -10.242808  \n",
       "3135283 -374690.122687           10y  2033-10-11          15y   0.546255  \n",
       "3527193 -118538.966892            3y  2026-11-30           3y  -7.720153  \n",
       "3919103 -308259.900297           15y  2039-01-12           8y  -5.715808  "
      ]
     },
     "execution_count": 13,
     "metadata": {},
     "output_type": "execute_result"
    }
   ],
   "source": [
    "import numpy as np, pandas as pd\n",
    "trade_price_ir_vegas_df = pd.read_csv(\"../assets/trade-price-ir-vegas.csv\"); \n",
    "trade_price_ir_vegas_df_total_rows = trade_price_ir_vegas_df.shape[0]\n",
    "print (f\"Total: {trade_price_ir_vegas_df_total_rows} rows. Sampled rows: \")\n",
    "sample_difference = 0.1\n",
    "sample_points = np.arange(0, 1 + sample_difference, sample_difference)\n",
    "print (sample_points)\n",
    "sample_rows = [trade_price_ir_vegas_df.iloc[min(trade_price_ir_vegas_df_total_rows - 1, int(trade_price_ir_vegas_df_total_rows * sample))] for sample in sample_points]\n",
    "sampled_df = pd.DataFrame(sample_rows)\n",
    "sampled_df.drop_duplicates()"
   ]
  },
  {
   "cell_type": "markdown",
   "metadata": {},
   "source": [
    "Consider the example row ```(2023-05-23, dummyTrade1, USD, -50, -158091.52, 5y, 2028-05-23, 4y, -32.53)```: \n",
    "\n",
    "- ```USD zero rates moves in parallel by -50 basis points``` on 2023-05-23, indicating the Market Condition. \n",
    "\n",
    "- dummyTrade1’s ```Total Value under the Market Condition``` is -158,091.52 in USD\n",
    "\n",
    "- dummyTrade1’s sensitivity towards USD 5y swaption (underlying 4y IRS) market implied ```Normal volatility is -32.53``` in USD"
   ]
  },
  {
   "cell_type": "markdown",
   "metadata": {},
   "source": [
    "#### market-data-swaption-vols.csv\n",
    "\n",
    "This file contains timeseries of swap rates: \n",
    "\n",
    "- ```Date```: Quote date\n",
    "\n",
    "- ```Start Date```: start date of swap\n",
    "\n",
    "- ```Tenor```: Swap tenor\n",
    "\n",
    "- ```Swap Rate```: market swap rate value (in percentage)"
   ]
  },
  {
   "cell_type": "markdown",
   "metadata": {},
   "source": [
    "Consider the example row ```(1/13/2021, 1/13/2022, 10y, 1.0813328677467247)```: \n",
    "\n",
    "- The ```swap rate for a 10y swap``` starting ```from 1/13/2022 quoted on 1/13/2021``` is ```1.0813328677467247%```. "
   ]
  },
  {
   "cell_type": "markdown",
   "metadata": {},
   "source": [
    "#### trade-information.csv\n",
    "\n",
    "This file contains time series of swap implied normal vols: \n",
    "\n",
    "- ```Date```: Quote date\n",
    "  \n",
    "- ```Expiry```: Expiry of the swaption\n",
    "  \n",
    "- ```Tenor```: Tenor of the swap to be entered by the swaption\n",
    "  \n",
    "- ```Strike```: Rate spread to ATM (At The Money) value\n",
    "  \n",
    "- ```Vols```: Market implied normal volatility (in percentage)\n"
   ]
  },
  {
   "cell_type": "markdown",
   "metadata": {},
   "source": [
    "Consider the example row ```(1/13/2021, 10y, 10y, atm-1.0%, 0.17055186526449959)```: \n",
    "\n",
    "- On 1/13/2021, the ```implied normal volatility for a 10y swap starting in 10 years``` with ```strike being 0.99 * swap rate``` is 0.17055186526449959%. "
   ]
  },
  {
   "cell_type": "markdown",
   "metadata": {},
   "source": [
    "#### portfolio_information.csv\n",
    "\n",
    "This file contains information of the portfolio used in IR Vega calculation: \n",
    "\n",
    "- ```Trade Name```: Trade identity\n",
    "\n",
    "- ```Underlying```: Trade underlying\n",
    "\n",
    "- ```Pay Frequency```: The time period for each coupon payment\n",
    "\n",
    "- ```Lower Bound```: Coupon payment lower bound\n",
    "\n",
    "- ```Upper Bound```: Coupon payment upper bound\n"
   ]
  },
  {
   "cell_type": "markdown",
   "metadata": {},
   "source": [
    "Consider the example row ```(dummyTrade1, USD:CMS:2Y, 6M, 5Y, 0.0042, 0.0379)```: \n",
    "\n",
    "- The dummyTrade1 is a ```5Y range accrual with 2y CMS rate as the underlying```, coupon is ```paid every 6M``` with ```lower bound = 0.0042 and upper bound = 0.0379```."
   ]
  },
  {
   "cell_type": "markdown",
   "metadata": {},
   "source": [
    "## Project Motivation"
   ]
  },
  {
   "cell_type": "markdown",
   "metadata": {},
   "source": [
    "### The Challenge"
   ]
  },
  {
   "cell_type": "markdown",
   "metadata": {},
   "source": [
    "- The ```structure of the product is relatively complex```, and its ```interval accumulation characteristics are relatively idiosyncratic``` and there is ```no simple numerical analytical solution```. Such products often use numerical simulation (Monte Carlo, etc.) methods to price and calculate related risk exposures.\n",
    "\n",
    "- The calculation results of the Monte Carlo model are ```more accurate```, but there are problems such as ```slow calculation speed and low sensitivity to changes in the external environment```. "
   ]
  },
  {
   "cell_type": "markdown",
   "metadata": {},
   "source": [
    "### The Task"
   ]
  },
  {
   "cell_type": "markdown",
   "metadata": {},
   "source": [
    "基于所提供的 ```模拟产品特征、历史风险因子的数据``` 以及 ```市场环境```，建立能 ```准确、高效预测该类产品风险敞口``` 的模型 （例如AI），检验 ```模型的效率和准确度```。"
   ]
  },
  {
   "cell_type": "markdown",
   "metadata": {},
   "source": [
    "Based on the provided ```simulated product characteristics, historical risk factor data and market environment```, establish a model (such as AI) that can ```accurately and efficiently predict the risk exposure``` of this type of product, and test ```the efficiency and accuracy``` of the model."
   ]
  }
 ],
 "metadata": {
  "kernelspec": {
   "display_name": "Python 3",
   "language": "python",
   "name": "python3"
  },
  "language_info": {
   "codemirror_mode": {
    "name": "ipython",
    "version": 3
   },
   "file_extension": ".py",
   "mimetype": "text/x-python",
   "name": "python",
   "nbconvert_exporter": "python",
   "pygments_lexer": "ipython3",
   "version": "3.12.3"
  }
 },
 "nbformat": 4,
 "nbformat_minor": 2
}
