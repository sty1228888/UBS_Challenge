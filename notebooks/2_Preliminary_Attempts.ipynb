{
 "cells": [
  {
   "cell_type": "markdown",
   "metadata": {},
   "source": [
    "# UBS Challenge Preliminary Attempts\n",
    "\n",
    "------"
   ]
  },
  {
   "cell_type": "markdown",
   "metadata": {},
   "source": [
    "### Download necessary packages & Add system executable"
   ]
  },
  {
   "cell_type": "code",
   "execution_count": null,
   "metadata": {},
   "outputs": [],
   "source": [
    "!pip install numpy pandas matplotlib --quiet\n",
    "import numpy as np, pandas as pd, matplotlib\n",
    "import os, sys; sys.path.insert(0, os.path.join(sys.path[0], '..'))"
   ]
  },
  {
   "cell_type": "markdown",
   "metadata": {},
   "source": [
    "#### Download the files"
   ]
  },
  {
   "cell_type": "code",
   "execution_count": null,
   "metadata": {},
   "outputs": [],
   "source": [
    "!pip install requests --quiet\n",
    "import os, sys; sys.path.insert(0, os.path.join(sys.path[0], '..'))\n",
    "from scripts.download_files import download_files\n",
    "download_files()"
   ]
  },
  {
   "cell_type": "markdown",
   "metadata": {},
   "source": [
    "## Project Motivation"
   ]
  },
  {
   "cell_type": "markdown",
   "metadata": {},
   "source": [
    "### The Challenge"
   ]
  },
  {
   "cell_type": "markdown",
   "metadata": {},
   "source": [
    "- The ```structure of the product is relatively complex```, and its ```interval accumulation characteristics are relatively idiosyncratic``` and there is ```no simple numerical analytical solution```. Such products often use numerical simulation (Monte Carlo, etc.) methods to price and calculate related risk exposures.\n",
    "\n",
    "- The calculation results of the Monte Carlo model are ```more accurate```, but there are problems such as ```slow calculation speed and low sensitivity to changes in the external environment```. "
   ]
  },
  {
   "cell_type": "markdown",
   "metadata": {},
   "source": [
    "### The Task"
   ]
  },
  {
   "cell_type": "markdown",
   "metadata": {},
   "source": [
    "基于所提供的 ```模拟产品特征、历史风险因子的数据``` 以及 ```市场环境```，建立能 ```准确、高效预测该类产品风险敞口``` 的模型 （例如AI），检验 ```模型的效率和准确度```。"
   ]
  },
  {
   "cell_type": "markdown",
   "metadata": {},
   "source": [
    "Based on the provided ```simulated product characteristics, historical risk factor data and market environment```, establish a model (such as AI) that can ```accurately and efficiently predict the risk exposure``` of this type of product, and test ```the efficiency and accuracy``` of the model."
   ]
  },
  {
   "cell_type": "markdown",
   "metadata": {},
   "source": [
    "## Understand the Question"
   ]
  },
  {
   "cell_type": "markdown",
   "metadata": {},
   "source": [
    "### What are the product characteristics from the provided .csv files? "
   ]
  },
  {
   "cell_type": "markdown",
   "metadata": {},
   "source": [
    "The product characteristics can be obtained from the ```trade-information.csv``` file. This file provides information about the trades: \n",
    "\n",
    "- ```Trade Name``` (identifier)\n",
    "\n",
    "- ```Underlying```\n",
    "\n",
    "- ```Pay Frequency```\n",
    "\n",
    "- ```Lower Bound```\n",
    "\n",
    "- ```Upper Bound```"
   ]
  },
  {
   "cell_type": "markdown",
   "metadata": {},
   "source": [
    "### What are the product historical risk factors from the provided .csv files? "
   ]
  },
  {
   "cell_type": "markdown",
   "metadata": {},
   "source": [
    "The historical risk factors can be found in the ```trade-price-ir-vegas.csv``` file. \n",
    "\n",
    "This file contains the timeseries data for each trade, indicating the risks: \n",
    "\n",
    "- ```TV``` (Total Value)\n",
    "\n",
    "- ```Vega```\n",
    "\n",
    "Both historical risk factors are correlated with the historical trade data in the same ```trade-price-ir-vegas.csv``` file: \n",
    "\n",
    "- ```Zero Rate Shock```\n",
    "\n",
    "- ```Expiry Bucket```\n",
    "\n",
    "- ```Tenor Bucket```"
   ]
  },
  {
   "cell_type": "markdown",
   "metadata": {},
   "source": [
    "### What are the market environment factors from the provided .csv files? "
   ]
  },
  {
   "cell_type": "markdown",
   "metadata": {},
   "source": [
    "The market environment factors can be found in the ```market-data-swap-rates.csv``` and ```market-data-swaption-vols.csv``` files. These files provide timeseries data for ```Swap Rate``` and ```Vols``` (implied normal volatilities). \n",
    "\n",
    "Regarding the factors influencing the ```Swap Rate```: \n",
    "\n",
    "- ```Start Date``` from ```market-data-swap-rates.csv```. The start date itself may not be too helpful, but the difference between the ```Start Date``` and ```Date``` may be useful. \n",
    "\n",
    "- ```Tenor``` (i.e., maturity time) from ```market-data-swap-rates.csv```\n",
    "\n",
    "Regarding the factors including the ```Vols```: \n",
    "\n",
    "- ```Expiry``` from ```market-data-swaption-vols.csv```\n",
    "\n",
    "- ```Tenor``` from ```market-data-swaption-vols.csv```\n",
    "\n",
    "- ```Strike``` from ```market-data-swaption-vols.csv```\n",
    "\n",
    "In the end, both ```Swap Rate``` and ```Vols``` are market indicators that may influence investors' decisions. In the preliminary stage, it is suggested to only take ```Swap Rate``` and ```Vols``` to represent market influences. "
   ]
  },
  {
   "cell_type": "markdown",
   "metadata": {},
   "source": [
    "### What risk exposure indicators should the model predict? "
   ]
  },
  {
   "cell_type": "markdown",
   "metadata": {},
   "source": [
    "The model should predict the ```TV``` (Total Value) and ```Vega``` of the trades. These are the main risk exposure indicators provided in the ```trade-price-ir-vegas.csv``` file. \n",
    "\n",
    "Summarized from the above analysis, after aggregating the data into specific day intervals (min. daily style), the correlation between ```TV``` and ```Vega``` and each potential aspect can be analyzed by machine learning methods, e.g., regression, Monte Carlo methods, and more. There are three aspects: \n",
    "\n",
    "- Aspect 1 (from the product characteristic perspective): \n",
    "\n",
    "  - Input (Independent Variables): ```Underlying```, ```Pay Frequency```, ```Lower Bound``` and ```Upper Bound``` \\[AGGREGATED\\] (in ```trade-information.csv```)\n",
    "\n",
    "  - Predict (Dependent Variables): ```TV```, ```Vega```\n",
    "\n",
    "- Aspect 2 (from the historical risk exposure indicator perspective): \n",
    "\n",
    "  - Input (Independent Variables): ```Zero Rate Shock```, ```Expiry Bucket```, and ```Tenor Bucket``` \\[AGGREGATED\\] (in ```trade-price-ir-vegas.csv```)\n",
    "\n",
    "  - Predict (Dependent Variables): ```TV```, ```Vega```\n",
    "\n",
    "- Aspect 3 (from the market environment factor perspective): \n",
    "\n",
    "  - Input (Independent Variables): ```Swap Rate``` \\[AGGREGATED\\] (in ```market-data-swap-rates.csv```), and ```Vols``` \\[AGGREGATED\\] (in ```market-data-swaption-vols.csv```) + ```Start Date``` and ```Tenor``` \\[AGGREGATED\\] (in ```market-data-swap-rates.csv```), ```Expiry```, ```Tenor``` and ```Strike``` (in ```market-data-swaption-vols.csv```)\n",
    "\n",
    "  - Predict (Dependent Variables): ```TV```, ```Vega```"
   ]
  },
  {
   "cell_type": "markdown",
   "metadata": {},
   "source": [
    "### How to evaluate the model efficiency and accuracy? "
   ]
  },
  {
   "cell_type": "markdown",
   "metadata": {},
   "source": [
    "Use standard machine learning evaluation metrics: \n",
    "\n",
    "- ```Mean Squared Error``` (MSE)\n",
    "\n",
    "- ```R-squared```\n",
    "\n",
    "- ```Other relevant metrics``` depending on the model."
   ]
  },
  {
   "cell_type": "markdown",
   "metadata": {},
   "source": [
    "### How the provided data can be deployed in machine prediction with Monte Carlo methods? "
   ]
  },
  {
   "cell_type": "markdown",
   "metadata": {},
   "source": [
    "The provided data can be used to train a machine learning model, such as a regression model to predict the TV (Total Value) and Vega of the trades. Here is the execution plan: \n",
    "\n",
    "- Attempt 1: ```Regression```\n",
    "\n",
    "- Attempt 2: ```Monte Carlo Methods``` (previous work applicable)\n",
    "\n",
    "- Attempt 3: ```Deep Learning Methods``` (previous work applicable)"
   ]
  },
  {
   "cell_type": "markdown",
   "metadata": {},
   "source": [
    "## Data Processing"
   ]
  },
  {
   "cell_type": "markdown",
   "metadata": {},
   "source": [
    "### Data Aggregation"
   ]
  },
  {
   "cell_type": "markdown",
   "metadata": {},
   "source": [
    "**Data Aggregation for one column**\n",
    "\n",
    "As what you may have noticed, the file ```trade-price-ir-vegas``` is extremely large, containing millions of lines. \n",
    "A smaller file, ```trade-price-ir-vegas-20220902``` is created in the ```assets``` folder. ChatGPT was invited to write a function to aggregate all data on top of a specific column besides the ```Value Date```, the ```TV```, and the ```Vega```. \n",
    "\n",
    "**Data Aggregation for many columns**\n",
    "\n",
    "Next, ChatGPT was invited to modify the function definition so that it can only consider specific values ​​of the input column (optional) when aggregating multiple rows at the same time.\n",
    "\n",
    "The script returned by ChatGPT is modified and added to ```scripts/aggregate_data.py```"
   ]
  },
  {
   "cell_type": "markdown",
   "metadata": {},
   "source": [
    "#### Aggregate TV for one day\n",
    "\n",
    "Consider Aspect 2: Historical Risk Exposure\n",
    "\n",
    "- Group by ```Zero Rate Shock```\n",
    "\n",
    "- Group by ```Expiry Bucket```\n",
    "\n",
    "- Group by ```Tenor Bucket```"
   ]
  },
  {
   "cell_type": "code",
   "execution_count": null,
   "metadata": {},
   "outputs": [],
   "source": [
    "import os, sys; sys.path.insert(0, os.path.join(sys.path[0], '..'))\n",
    "from scripts.data_processing_visualization import aggregate\n",
    "aspect_2_ZRS_TV_20220902 = aggregate(os.path.join(\"assets\", \"trade-price-ir-vegas-20220902.csv\"), \n",
    "                        {\n",
    "                                \"Value Date\": {}, \n",
    "                                \"Zero Rate Shock\": {}, \n",
    "                                \"Expiry Bucket\": {\"aggregate\": True}, \n",
    "                                \"Tenor Bucket\": {\"aggregate\": True}, \n",
    "                        }, \n",
    "                        {\n",
    "                                \"TV\": {}\n",
    "                        })\n",
    "\n",
    "from IPython.display import display\n",
    "display(aspect_2_ZRS_TV_20220902)"
   ]
  },
  {
   "cell_type": "code",
   "execution_count": null,
   "metadata": {},
   "outputs": [],
   "source": [
    "import os, sys; sys.path.insert(0, os.path.join(sys.path[0], '..'))\n",
    "from scripts.data_processing_visualization import aggregate\n",
    "aspect_2_EB_TV_20220902 = aggregate(os.path.join(\"assets\", \"trade-price-ir-vegas-20220902.csv\"), \n",
    "                        {\n",
    "                                \"Value Date\": {}, \n",
    "                                \"Zero Rate Shock\": {\"aggregate\": True}, \n",
    "                                \"Expiry Bucket\": {}, \n",
    "                                \"Tenor Bucket\": {\"aggregate\": True}, \n",
    "                        }, \n",
    "                        {\n",
    "                                \"TV\": {}\n",
    "                        })\n",
    "\n",
    "from IPython.display import display\n",
    "display(aspect_2_EB_TV_20220902)"
   ]
  },
  {
   "cell_type": "code",
   "execution_count": null,
   "metadata": {},
   "outputs": [],
   "source": [
    "import os, sys; sys.path.insert(0, os.path.join(sys.path[0], '..'))\n",
    "from scripts.data_processing_visualization import aggregate\n",
    "aspect_2_TB_TV_20220902 = aggregate(os.path.join(\"assets\", \"trade-price-ir-vegas-20220902.csv\"), \n",
    "                        {\n",
    "                                \"Value Date\": {}, \n",
    "                                \"Zero Rate Shock\": {\"aggregate\": True}, \n",
    "                                \"Expiry Bucket\": {\"aggregate\": True}, \n",
    "                                \"Tenor Bucket\": {}, \n",
    "                        }, \n",
    "                        {\n",
    "                                \"TV\": {}\n",
    "                        })\n",
    "\n",
    "from IPython.display import display\n",
    "display(aspect_2_TB_TV_20220902)"
   ]
  },
  {
   "cell_type": "markdown",
   "metadata": {},
   "source": [
    "#### Aggregate Vega for one day\n",
    "\n",
    "Multiple vega values are averaged during aggregation. This approach may not be the best. \n",
    "\n",
    "As what you may have also noticed, when the ```Tenor Bucket``` is \"18M\", the Vega is always 0, indicating potential data loss when recording. To avoid that from affecting the aggregation result, remove all entries with the ```Tenor Bucket``` field equal to \"18M\". "
   ]
  },
  {
   "cell_type": "code",
   "execution_count": null,
   "metadata": {},
   "outputs": [],
   "source": [
    "import os, sys; sys.path.insert(0, os.path.join(sys.path[0], '..'))\n",
    "from scripts.data_processing_visualization import aggregate\n",
    "aspect_2_ZRS_Vega_20220902 = aggregate(os.path.join(\"assets\", \"trade-price-ir-vegas-20220902.csv\"), \n",
    "                        {\n",
    "                                \"Value Date\": {}, \n",
    "                                \"Zero Rate Shock\": {}, \n",
    "                                \"Expiry Bucket\": {\"aggregate\": True}, \n",
    "                                \"Tenor Bucket\": {\n",
    "                                    \"aggregate\": True, \n",
    "                                    \"values\": [\"1y\", \"2y\", \"3y\", \"4y\", \n",
    "                                              \"5y\", \"8y\", \"10y\", \"15y\"]\n",
    "                                    }, \n",
    "                        }, \n",
    "                        {\n",
    "                                \"Vega\": {}\n",
    "                        })\n",
    "\n",
    "from IPython.display import display\n",
    "display(aspect_2_ZRS_Vega_20220902)"
   ]
  },
  {
   "cell_type": "code",
   "execution_count": null,
   "metadata": {},
   "outputs": [],
   "source": [
    "import os, sys; sys.path.insert(0, os.path.join(sys.path[0], '..'))\n",
    "from scripts.data_processing_visualization import aggregate\n",
    "aspect_2_EB_Vega_20220902 = aggregate(os.path.join(\"assets\", \"trade-price-ir-vegas-20220902.csv\"), \n",
    "                        {\n",
    "                                \"Value Date\": {}, \n",
    "                                \"Zero Rate Shock\": {\"aggregate\": True}, \n",
    "                                \"Expiry Bucket\": {}, \n",
    "                                \"Tenor Bucket\": {\n",
    "                                    \"aggregate\": True, \n",
    "                                    \"values\": [\"1y\", \"2y\", \"3y\", \"4y\", \n",
    "                                              \"5y\", \"8y\", \"10y\", \"15y\"]\n",
    "                                    }, \n",
    "                        }, \n",
    "                        {\n",
    "                                \"Vega\": {}\n",
    "                        })\n",
    "\n",
    "from IPython.display import display\n",
    "display(aspect_2_EB_Vega_20220902)"
   ]
  },
  {
   "cell_type": "code",
   "execution_count": null,
   "metadata": {},
   "outputs": [],
   "source": [
    "import os, sys; sys.path.insert(0, os.path.join(sys.path[0], '..'))\n",
    "from scripts.data_processing_visualization import aggregate\n",
    "aspect_2_TB_Vega_20220902 = aggregate(os.path.join(\"assets\", \"trade-price-ir-vegas-20220902.csv\"), \n",
    "                        {\n",
    "                                \"Value Date\": {}, \n",
    "                                \"Zero Rate Shock\": {\"aggregate\": True}, \n",
    "                                \"Expiry Bucket\": {\"aggregate\": True}, \n",
    "                                \"Tenor Bucket\": {\n",
    "                                    \"values\": [\"1y\", \"2y\", \"3y\", \"4y\", \n",
    "                                              \"5y\", \"8y\", \"10y\", \"15y\"]\n",
    "                                    }, \n",
    "                        }, \n",
    "                        {\n",
    "                                \"Vega\": {}\n",
    "                        })\n",
    "\n",
    "from IPython.display import display\n",
    "display(aspect_2_TB_Vega_20220902)"
   ]
  },
  {
   "cell_type": "markdown",
   "metadata": {},
   "source": [
    "Feel free to test the code yourself, and verify the following files generated: \n",
    "\n",
    "- ```trade-price-ir-vegas-20220902-id=expiryBucket_valueDate-d=tv.csv```\n",
    "\n",
    "- ```trade-price-ir-vegas-20220902-id=expiryBucket_valueDate-d=vega.csv```\n",
    "\n",
    "- ```trade-price-ir-vegas-20220902-id=tenorBucket_valueDate-d=tv.csv```\n",
    "\n",
    "- ```trade-price-ir-vegas-20220902-id=tenorBucket_valueDate-d=vega.csv```\n",
    "\n",
    "- ```trade-price-ir-vegas-20220902-id=valueDate_zeroRateShock-d=tv.csv```\n",
    "\n",
    "- ```trade-price-ir-vegas-20220902-id=valueDate_zeroRateShock-d=vega.csv```"
   ]
  },
  {
   "cell_type": "markdown",
   "metadata": {},
   "source": [
    "### Illustrate the change of ```TV``` and ```Vega```"
   ]
  },
  {
   "cell_type": "markdown",
   "metadata": {},
   "source": [
    "- After clustering some independent variables, specify the target values of the remaining ones and observe how the dependent variable is further aggregated on top of them. \n",
    "\n",
    "- The function ```visualize_time_series``` implements this function. To show the change pattern of the dependent variable over time,  the \"Value Date\" column is always used as an independent variable without being clustered in ```visualize_time_series```."
   ]
  },
  {
   "cell_type": "markdown",
   "metadata": {},
   "source": [
    "- Generate a ```.csv``` file with all records in September 2022, from the original huge ```trade-price-ir-vegas.csv``` file. \n",
    "\n",
    "- The file ```trade-price-ir-vegas-timeranged-ed=30092022.csv``` should be available in the ```assets``` folder after running the following code. "
   ]
  },
  {
   "cell_type": "markdown",
   "metadata": {},
   "source": [
    "#### Obtain the Time Series dataframe"
   ]
  },
  {
   "cell_type": "code",
   "execution_count": null,
   "metadata": {},
   "outputs": [],
   "source": [
    "import os, sys; sys.path.insert(0, os.path.join(sys.path[0], '..'))\n",
    "from scripts.data_processing_visualization import time_ranged\n",
    "aspect_2_TB_Vega_202209_time_ranged = time_ranged(os.path.join(\"assets\", \"trade-price-ir-vegas.csv\"), \n",
    "            end_date=\"2022-09-30\", save_file=True)\n",
    "\n",
    "from IPython.display import display\n",
    "display(aspect_2_TB_Vega_202209_time_ranged.head(), f\"{aspect_2_TB_Vega_202209_time_ranged.shape[0]} rows in total\")"
   ]
  },
  {
   "cell_type": "code",
   "execution_count": null,
   "metadata": {},
   "outputs": [],
   "source": [
    "import os, sys; sys.path.insert(0, os.path.join(sys.path[0], '..'))\n",
    "from scripts.data_processing_visualization import time_series\n",
    "aspect_2_TB_Vega_202209_time_series = time_series(os.path.join(\"assets\", \"trade-price-ir-vegas-timeranged-ed=20220930.csv\"), \n",
    "                        {\n",
    "                                \"Value Date\": [None, None], \n",
    "                                \"Zero Rate Shock\": {}, \n",
    "                                \"Expiry Bucket\": {}, \n",
    "                                \"Tenor Bucket\": {\n",
    "                                    \"values\": [\"1y\", \"2y\", \"3y\", \"4y\", \n",
    "                                              \"5y\", \"8y\", \"10y\", \"15y\"]\n",
    "                                    }, \n",
    "                        }, \n",
    "                        {\n",
    "                                \"Vega\": {}\n",
    "                        }, save_file = True)\n",
    "\n",
    "from IPython.display import display\n",
    "display(aspect_2_TB_Vega_202209_time_series.head(), f\"{aspect_2_TB_Vega_202209_time_series.shape[0]} rows in total\")"
   ]
  },
  {
   "cell_type": "markdown",
   "metadata": {},
   "source": [
    "## Regression Models"
   ]
  },
  {
   "cell_type": "markdown",
   "metadata": {},
   "source": [
    "After running the above codes, we should obtain the following files: "
   ]
  },
  {
   "cell_type": "markdown",
   "metadata": {},
   "source": [
    "## Random Forest Models"
   ]
  }
 ],
 "metadata": {
  "kernelspec": {
   "display_name": "UBS",
   "language": "python",
   "name": "python3"
  },
  "language_info": {
   "codemirror_mode": {
    "name": "ipython",
    "version": 3
   },
   "file_extension": ".py",
   "mimetype": "text/x-python",
   "name": "python",
   "nbconvert_exporter": "python",
   "pygments_lexer": "ipython3",
   "version": "3.8.10"
  }
 },
 "nbformat": 4,
 "nbformat_minor": 2
}
