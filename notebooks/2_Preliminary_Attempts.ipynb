{
 "cells": [
  {
   "cell_type": "markdown",
   "metadata": {},
   "source": [
    "# UBS Challenge Preliminary Attempts\n",
    "\n",
    "------"
   ]
  },
  {
   "cell_type": "markdown",
   "metadata": {},
   "source": [
    "#### Download the files"
   ]
  },
  {
   "cell_type": "code",
   "execution_count": 1,
   "metadata": {},
   "outputs": [
    {
     "name": "stdout",
     "output_type": "stream",
     "text": [
      "The file market-data-swap-rates.csv has already been downloaded. \n",
      "The file market-data-swaption-vols.csv has already been downloaded. \n",
      "The file trade-information.csv has already been downloaded. \n",
      "The file trade-price-ir-vegas.csv has already been downloaded. \n"
     ]
    }
   ],
   "source": [
    "!pip install requests --quiet\n",
    "import os, sys; sys.path.insert(0, os.path.join(sys.path[0], '..'))\n",
    "from scripts.functions import download_files\n",
    "download_files()"
   ]
  },
  {
   "cell_type": "markdown",
   "metadata": {},
   "source": [
    "## Project Motivation"
   ]
  },
  {
   "cell_type": "markdown",
   "metadata": {},
   "source": [
    "### The Challenge"
   ]
  },
  {
   "cell_type": "markdown",
   "metadata": {},
   "source": [
    "- The ```structure of the product is relatively complex```, and its ```interval accumulation characteristics are relatively idiosyncratic``` and there is ```no simple numerical analytical solution```. Such products often use numerical simulation (Monte Carlo, etc.) methods to price and calculate related risk exposures.\n",
    "\n",
    "- The calculation results of the Monte Carlo model are ```more accurate```, but there are problems such as ```slow calculation speed and low sensitivity to changes in the external environment```. "
   ]
  },
  {
   "cell_type": "markdown",
   "metadata": {},
   "source": [
    "### The Task"
   ]
  },
  {
   "cell_type": "markdown",
   "metadata": {},
   "source": [
    "基于所提供的 ```模拟产品特征、历史风险因子的数据``` 以及 ```市场环境```，建立能 ```准确、高效预测该类产品风险敞口``` 的模型 （例如AI），检验 ```模型的效率和准确度```。"
   ]
  },
  {
   "cell_type": "markdown",
   "metadata": {},
   "source": [
    "Based on the provided ```simulated product characteristics, historical risk factor data and market environment```, establish a model (such as AI) that can ```accurately and efficiently predict the risk exposure``` of this type of product, and test ```the efficiency and accuracy``` of the model."
   ]
  },
  {
   "cell_type": "markdown",
   "metadata": {},
   "source": [
    "## Understand the Question"
   ]
  },
  {
   "cell_type": "markdown",
   "metadata": {},
   "source": [
    "### What are the product characteristics from the provided .csv files? "
   ]
  },
  {
   "cell_type": "markdown",
   "metadata": {},
   "source": [
    "The product characteristics can be obtained from the ```trade-information.csv``` file. This file provides information about the trades: \n",
    "\n",
    "- ```Trade Name``` (identifier)\n",
    "\n",
    "- ```Underlying```\n",
    "\n",
    "- ```Pay Frequency```\n",
    "\n",
    "- ```Lower Bound```\n",
    "\n",
    "- ```Upper Bound```"
   ]
  },
  {
   "cell_type": "markdown",
   "metadata": {},
   "source": [
    "### What are the product historical risk factors from the provided .csv files? "
   ]
  },
  {
   "cell_type": "markdown",
   "metadata": {},
   "source": [
    "The historical risk factors can be found in the ```trade-price-ir-vegas.csv``` file. \n",
    "\n",
    "This file contains the timeseries data for each trade, indicating the risks: \n",
    "\n",
    "- ```TV``` (Total Value)\n",
    "\n",
    "- ```Vega```\n",
    "\n",
    "Both historical risk factors are correlated with the historical trade data in the same ```trade-price-ir-vegas.csv``` file: \n",
    "\n",
    "- ```Zero Rate Shock```\n",
    "\n",
    "- ```Expiry Bucket```\n",
    "\n",
    "- ```Tenor Bucket```"
   ]
  },
  {
   "cell_type": "markdown",
   "metadata": {},
   "source": [
    "### What are the market environment factors from the provided .csv files? "
   ]
  },
  {
   "cell_type": "markdown",
   "metadata": {},
   "source": [
    "The market environment factors can be found in the ```market-data-swap-rates.csv``` and ```market-data-swaption-vols.csv``` files. These files provide timeseries data for ```Swap Rate``` and ```Vols``` (implied normal volatilities). \n",
    "\n",
    "Regarding the factors influencing the ```Swap Rate```: \n",
    "\n",
    "- ```Start Date``` from ```market-data-swap-rates.csv```. The start date itself may not be too helpful, but the difference between the ```Start Date``` and ```Date``` may be useful. \n",
    "\n",
    "- ```Tenor``` (i.e., maturity time) from ```market-data-swap-rates.csv```\n",
    "\n",
    "Regarding the factors including the ```Vols```: \n",
    "\n",
    "- ```Expiry``` from ```market-data-swaption-vols.csv```\n",
    "\n",
    "- ```Tenor``` from ```market-data-swaption-vols.csv```\n",
    "\n",
    "- ```Strike``` from ```market-data-swaption-vols.csv```\n",
    "\n",
    "In the end, both ```Swap Rate``` and ```Vols``` are market indicators that may influence investors' decisions. In the preliminary stage, it is suggested to only take ```Swap Rate``` and ```Vols``` to represent market influences. "
   ]
  },
  {
   "cell_type": "markdown",
   "metadata": {},
   "source": [
    "### What risk exposure indicators should the model predict? "
   ]
  },
  {
   "cell_type": "markdown",
   "metadata": {},
   "source": [
    "The model should predict the ```TV``` (Total Value) and ```Vega``` of the trades. These are the main risk exposure indicators provided in the ```trade-price-ir-vegas.csv``` file. \n",
    "\n",
    "Summarized from the above analysis, after aggregating the data into specific day intervals (min. daily style), the correlation between ```TV``` and ```Vega``` and each potential aspect can be analyzed by machine learning methods, e.g., regression, Monte Carlo methods, and more. There are three aspects: \n",
    "\n",
    "- Aspect 1 (from the product characteristic perspective): \n",
    "\n",
    "  - Input (Independent Variables): ```Underlying```, ```Pay Frequency```, ```Lower Bound``` and ```Upper Bound``` \\[AGGREGATED\\] (in ```trade-information.csv```)\n",
    "\n",
    "  - Predict (Dependent Variables): ```TV```, ```Vega```\n",
    "\n",
    "- Aspect 2 (from the historical risk exposure indicator perspective): \n",
    "\n",
    "  - Input (Independent Variables): ```Zero Rate Shock```, ```Expiry Bucket```, and ```Tenor Bucket``` \\[AGGREGATED\\] (in ```trade-price-ir-vegas.csv```)\n",
    "\n",
    "  - Predict (Dependent Variables): ```TV```, ```Vega```\n",
    "\n",
    "- Aspect 3 (from the market environment factor perspective): \n",
    "\n",
    "  - Input (Independent Variables): ```Swap Rate``` \\[AGGREGATED\\] (in ```market-data-swap-rates.csv```), and ```Vols``` \\[AGGREGATED\\] (in ```market-data-swaption-vols.csv```) + ```Start Date``` and ```Tenor``` \\[AGGREGATED\\] (in ```market-data-swap-rates.csv```), ```Expiry```, ```Tenor``` and ```Strike``` (in ```market-data-swaption-vols.csv```)\n",
    "\n",
    "  - Predict (Dependent Variables): ```TV```, ```Vega```"
   ]
  },
  {
   "cell_type": "markdown",
   "metadata": {},
   "source": [
    "### How to evaluate the model efficiency and accuracy? "
   ]
  },
  {
   "cell_type": "markdown",
   "metadata": {},
   "source": [
    "Use standard machine learning evaluation metrics: \n",
    "\n",
    "- ```Mean Squared Error``` (MSE)\n",
    "\n",
    "- ```R-squared```\n",
    "\n",
    "- ```Other relevant metrics``` depending on the model."
   ]
  },
  {
   "cell_type": "markdown",
   "metadata": {},
   "source": [
    "### How the provided data can be deployed in machine prediction with Monte Carlo methods? "
   ]
  },
  {
   "cell_type": "markdown",
   "metadata": {},
   "source": [
    "The provided data can be used to train a machine learning model, such as a regression model to predict the TV (Total Value) and Vega of the trades. Here is the execution plan: \n",
    "\n",
    "- Attempt 1: ```Regression```\n",
    "\n",
    "- Attempt 2: ```Monte Carlo Methods``` (previous work applicable)\n",
    "\n",
    "- Attempt 3: ```Deep Learning Methods``` (previous work applicable)"
   ]
  },
  {
   "cell_type": "markdown",
   "metadata": {},
   "source": [
    "## Project Examination"
   ]
  },
  {
   "cell_type": "markdown",
   "metadata": {},
   "source": [
    "## Preliminary Attempts"
   ]
  },
  {
   "cell_type": "markdown",
   "metadata": {},
   "source": [
    "Using sklearn"
   ]
  },
  {
   "cell_type": "markdown",
   "metadata": {},
   "source": [
    "### Data Processing"
   ]
  },
  {
   "cell_type": "markdown",
   "metadata": {},
   "source": [
    "------"
   ]
  },
  {
   "cell_type": "markdown",
   "metadata": {},
   "source": [
    "### XGBoost Models"
   ]
  },
  {
   "cell_type": "markdown",
   "metadata": {},
   "source": [
    "### Random Forest Models"
   ]
  },
  {
   "cell_type": "markdown",
   "metadata": {},
   "source": [
    "### Regression Models"
   ]
  }
 ],
 "metadata": {
  "kernelspec": {
   "display_name": "UBS",
   "language": "python",
   "name": "python3"
  },
  "language_info": {
   "codemirror_mode": {
    "name": "ipython",
    "version": 3
   },
   "file_extension": ".py",
   "mimetype": "text/x-python",
   "name": "python",
   "nbconvert_exporter": "python",
   "pygments_lexer": "ipython3",
   "version": "3.12.3"
  }
 },
 "nbformat": 4,
 "nbformat_minor": 2
}
